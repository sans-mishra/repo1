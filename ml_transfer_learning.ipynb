{
  "nbformat": 4,
  "nbformat_minor": 0,
  "metadata": {
    "colab": {
      "provenance": [],
      "gpuType": "T4",
      "authorship_tag": "ABX9TyOpPdQXtftNnU6M5RNPFnc7",
      "include_colab_link": true
    },
    "kernelspec": {
      "name": "python3",
      "display_name": "Python 3"
    },
    "language_info": {
      "name": "python"
    },
    "accelerator": "GPU"
  },
  "cells": [
    {
      "cell_type": "markdown",
      "metadata": {
        "id": "view-in-github",
        "colab_type": "text"
      },
      "source": [
        "<a href=\"https://colab.research.google.com/github/sans-mishra/repo1/blob/sans/ml_transfer_learning.ipynb\" target=\"_parent\"><img src=\"https://colab.research.google.com/assets/colab-badge.svg\" alt=\"Open In Colab\"/></a>"
      ]
    },
    {
      "cell_type": "code",
      "execution_count": null,
      "metadata": {
        "id": "olQVn8od3Xtw"
      },
      "outputs": [],
      "source": [
        "import tensorflow as tf\n",
        "from tensorflow.keras import layers, models, datasets\n",
        "import matplotlib.pyplot as plt"
      ]
    },
    {
      "cell_type": "code",
      "source": [
        "(x_train, y_train), (x_test, y_test) = datasets.cifar10.load_data()"
      ],
      "metadata": {
        "colab": {
          "base_uri": "https://localhost:8080/"
        },
        "id": "zM2oCIXD6pOG",
        "outputId": "5b25afae-5b5d-472b-8c25-5e1e6f3204f7"
      },
      "execution_count": null,
      "outputs": [
        {
          "output_type": "stream",
          "name": "stdout",
          "text": [
            "Downloading data from https://www.cs.toronto.edu/~kriz/cifar-10-python.tar.gz\n",
            "170498071/170498071 [==============================] - 3s 0us/step\n"
          ]
        }
      ]
    },
    {
      "cell_type": "code",
      "source": [
        "x_train=x_train.astype('float32')/255.0\n",
        "x_test=x_test.astype('float32')/255.0"
      ],
      "metadata": {
        "id": "FOTqxa4p6rOf"
      },
      "execution_count": null,
      "outputs": []
    },
    {
      "cell_type": "code",
      "source": [
        "y_train=tf.keras.utils.to_categorical(y_train,10)\n",
        "y_test=tf.keras.utils.to_categorical(y_test,10)"
      ],
      "metadata": {
        "id": "UTzR_fEf64nN"
      },
      "execution_count": null,
      "outputs": []
    },
    {
      "cell_type": "code",
      "source": [
        "model = models.Sequential([\n",
        "    layers.Conv2D(32,(3,3),activation='relu', input_shape=(32,32,3)),\n",
        "    layers.MaxPool2D((2,2)),\n",
        "    layers.Conv2D(64,(3,3),activation='relu'),\n",
        "    layers.MaxPooling2D((2,2)),\n",
        "    layers.Conv2D(64,(3,3),activation='relu'),\n",
        "    layers.Flatten(),\n",
        "    layers.Dense(64,activation='relu'),\n",
        "    layers.Dense(10,activation='softmax')\n",
        "])"
      ],
      "metadata": {
        "id": "NOmX_Iim6-v_"
      },
      "execution_count": null,
      "outputs": []
    },
    {
      "cell_type": "code",
      "source": [
        "model.compile(optimizer='adam',\n",
        "              loss='categorical_crossentropy',\n",
        "              metrics=['accuracy'])\n",
        "history=model.fit(x_train, y_train, epochs=5, validation_data=(x_test, y_test))"
      ],
      "metadata": {
        "colab": {
          "base_uri": "https://localhost:8080/"
        },
        "id": "FEKe5gFx7Zux",
        "outputId": "769eddf1-1b5b-4528-e026-9bbd904fc90e"
      },
      "execution_count": null,
      "outputs": [
        {
          "output_type": "stream",
          "name": "stdout",
          "text": [
            "Epoch 1/5\n",
            "1563/1563 [==============================] - 14s 6ms/step - loss: 1.4919 - accuracy: 0.4566 - val_loss: 1.2419 - val_accuracy: 0.5647\n",
            "Epoch 2/5\n",
            "1563/1563 [==============================] - 8s 5ms/step - loss: 1.1266 - accuracy: 0.6048 - val_loss: 1.0471 - val_accuracy: 0.6327\n",
            "Epoch 3/5\n",
            "1563/1563 [==============================] - 9s 6ms/step - loss: 0.9783 - accuracy: 0.6553 - val_loss: 0.9888 - val_accuracy: 0.6576\n",
            "Epoch 4/5\n",
            "1563/1563 [==============================] - 9s 6ms/step - loss: 0.8779 - accuracy: 0.6914 - val_loss: 0.9743 - val_accuracy: 0.6659\n",
            "Epoch 5/5\n",
            "1563/1563 [==============================] - 8s 5ms/step - loss: 0.8035 - accuracy: 0.7185 - val_loss: 0.8799 - val_accuracy: 0.7029\n"
          ]
        }
      ]
    },
    {
      "cell_type": "code",
      "source": [
        "x_train=tf.image.resize(x_train,(96,96))\n",
        "\n",
        "x_test=tf.image.resize(x_test,(96,96))\n",
        "\n",
        "base_model = tf.keras.applications.MobileNetV2(input_shape=(96,96,3),\n",
        "                                               include_top=False,\n",
        "                                               weights='imagenet'\n",
        "                                               )\n",
        "\n",
        "base_model.trainable=False\n",
        "\n",
        "model=models.Sequential([\n",
        "    base_model,\n",
        "    layers.GlobalAveragePooling2D(),\n",
        "    layers.Dense(128,activation='relu'),\n",
        "    layers.Dropout(0.2),\n",
        "    layers.Dense(10,activation='softmax')\n",
        "])\n",
        "\n",
        "model.compile(optimizer='adam',\n",
        "              loss='categorical_crossentropy',\n",
        "              metrics=['accuracy'])\n",
        "history=model.fit(x_train, y_train, epochs=5, validation_data=(x_test, y_test))"
      ],
      "metadata": {
        "colab": {
          "base_uri": "https://localhost:8080/"
        },
        "id": "nlaakqfx9Uru",
        "outputId": "81c175f6-d43c-48d6-856e-59726854dd62"
      },
      "execution_count": null,
      "outputs": [
        {
          "output_type": "stream",
          "name": "stdout",
          "text": [
            "Downloading data from https://storage.googleapis.com/tensorflow/keras-applications/mobilenet_v2/mobilenet_v2_weights_tf_dim_ordering_tf_kernels_1.0_96_no_top.h5\n",
            "9406464/9406464 [==============================] - 0s 0us/step\n",
            "Epoch 1/5\n",
            "1563/1563 [==============================] - 35s 19ms/step - loss: 0.7749 - accuracy: 0.7322 - val_loss: 0.6035 - val_accuracy: 0.7913\n",
            "Epoch 2/5\n",
            "1563/1563 [==============================] - 27s 17ms/step - loss: 0.6096 - accuracy: 0.7866 - val_loss: 0.5746 - val_accuracy: 0.7988\n",
            "Epoch 3/5\n",
            "1563/1563 [==============================] - 28s 18ms/step - loss: 0.5562 - accuracy: 0.8039 - val_loss: 0.5639 - val_accuracy: 0.8012\n",
            "Epoch 4/5\n",
            "1563/1563 [==============================] - 28s 18ms/step - loss: 0.5160 - accuracy: 0.8178 - val_loss: 0.5562 - val_accuracy: 0.8095\n",
            "Epoch 5/5\n",
            "1563/1563 [==============================] - 28s 18ms/step - loss: 0.4865 - accuracy: 0.8260 - val_loss: 0.5433 - val_accuracy: 0.8128\n"
          ]
        }
      ]
    }
  ]
}