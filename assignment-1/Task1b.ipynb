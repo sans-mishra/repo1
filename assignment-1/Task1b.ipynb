{
 "cells": [
  {
   "cell_type": "markdown",
   "id": "b1f3bc47",
   "metadata": {
    "id": "P2pToiF-2YIE",
    "papermill": {
     "duration": 0.005874,
     "end_time": "2024-10-05T20:14:07.932135",
     "exception": false,
     "start_time": "2024-10-05T20:14:07.926261",
     "status": "completed"
    },
    "tags": []
   },
   "source": [
    "# Importing Libraries and Data Retrieval\n"
   ]
  },
  {
   "cell_type": "code",
   "execution_count": 1,
   "id": "0b7ea987",
   "metadata": {
    "execution": {
     "iopub.execute_input": "2024-10-05T20:14:07.943646Z",
     "iopub.status.busy": "2024-10-05T20:14:07.943272Z",
     "iopub.status.idle": "2024-10-05T20:14:09.973855Z",
     "shell.execute_reply": "2024-10-05T20:14:09.972865Z"
    },
    "id": "_D0JmujU2hUl",
    "papermill": {
     "duration": 2.038273,
     "end_time": "2024-10-05T20:14:09.976069",
     "exception": false,
     "start_time": "2024-10-05T20:14:07.937796",
     "status": "completed"
    },
    "tags": []
   },
   "outputs": [],
   "source": [
    "import pandas as pd\n",
    "import numpy as np\n",
    "import matplotlib.pyplot as plt\n",
    "import seaborn as sns"
   ]
  },
  {
   "cell_type": "code",
   "execution_count": 2,
   "id": "14bcf6ce",
   "metadata": {
    "execution": {
     "iopub.execute_input": "2024-10-05T20:14:09.986661Z",
     "iopub.status.busy": "2024-10-05T20:14:09.985920Z",
     "iopub.status.idle": "2024-10-05T20:14:10.126849Z",
     "shell.execute_reply": "2024-10-05T20:14:10.125979Z"
    },
    "id": "KPyunCzr2-8m",
    "papermill": {
     "duration": 0.148375,
     "end_time": "2024-10-05T20:14:10.129070",
     "exception": false,
     "start_time": "2024-10-05T20:14:09.980695",
     "status": "completed"
    },
    "tags": []
   },
   "outputs": [],
   "source": [
    "#importing dataset\n",
    "dataset = pd.read_csv(\"/kaggle/input/intelligence-sig-NLP-Task/news_train.csv\")\n",
    "test_set = pd.read_csv(\"/kaggle/input/intelligence-sig-NLP-Task/test.csv\")"
   ]
  },
  {
   "cell_type": "code",
   "execution_count": 3,
   "id": "b1ab2df2",
   "metadata": {
    "execution": {
     "iopub.execute_input": "2024-10-05T20:14:10.139461Z",
     "iopub.status.busy": "2024-10-05T20:14:10.138906Z",
     "iopub.status.idle": "2024-10-05T20:14:10.156017Z",
     "shell.execute_reply": "2024-10-05T20:14:10.155100Z"
    },
    "id": "hDBAkrFG3yQh",
    "outputId": "8174eec9-17c4-4ac5-e122-c8147152e04b",
    "papermill": {
     "duration": 0.024287,
     "end_time": "2024-10-05T20:14:10.158021",
     "exception": false,
     "start_time": "2024-10-05T20:14:10.133734",
     "status": "completed"
    },
    "tags": []
   },
   "outputs": [
    {
     "data": {
      "text/html": [
       "<div>\n",
       "<style scoped>\n",
       "    .dataframe tbody tr th:only-of-type {\n",
       "        vertical-align: middle;\n",
       "    }\n",
       "\n",
       "    .dataframe tbody tr th {\n",
       "        vertical-align: top;\n",
       "    }\n",
       "\n",
       "    .dataframe thead th {\n",
       "        text-align: right;\n",
       "    }\n",
       "</style>\n",
       "<table border=\"1\" class=\"dataframe\">\n",
       "  <thead>\n",
       "    <tr style=\"text-align: right;\">\n",
       "      <th></th>\n",
       "      <th>ID</th>\n",
       "      <th>News_title</th>\n",
       "      <th>News_headline</th>\n",
       "      <th>Category</th>\n",
       "    </tr>\n",
       "  </thead>\n",
       "  <tbody>\n",
       "    <tr>\n",
       "      <th>0</th>\n",
       "      <td>1</td>\n",
       "      <td>Do men enjoy sex more, or women? The Mahabhara...</td>\n",
       "      <td>[Book Extract] From Anushasana Parva, translat...</td>\n",
       "      <td>Arts</td>\n",
       "    </tr>\n",
       "    <tr>\n",
       "      <th>1</th>\n",
       "      <td>2</td>\n",
       "      <td>Why you should eat the Demonetisation laddoo</td>\n",
       "      <td>One laddoo equals to one lakh in your Jan Dhan...</td>\n",
       "      <td>humour</td>\n",
       "    </tr>\n",
       "    <tr>\n",
       "      <th>2</th>\n",
       "      <td>3</td>\n",
       "      <td>Is the world headed for a new Cold War?</td>\n",
       "      <td>The battle lines have become very clear with R...</td>\n",
       "      <td>politics</td>\n",
       "    </tr>\n",
       "    <tr>\n",
       "      <th>3</th>\n",
       "      <td>4</td>\n",
       "      <td>Demonetisation is all about Modi, either you'r...</td>\n",
       "      <td>How many times should this hypocritical drama ...</td>\n",
       "      <td>business</td>\n",
       "    </tr>\n",
       "    <tr>\n",
       "      <th>4</th>\n",
       "      <td>5</td>\n",
       "      <td>Why electoral bonds won't clean up political f...</td>\n",
       "      <td>Union finance minister Arun Jaitley needs to p...</td>\n",
       "      <td>politics</td>\n",
       "    </tr>\n",
       "  </tbody>\n",
       "</table>\n",
       "</div>"
      ],
      "text/plain": [
       "   ID                                         News_title  \\\n",
       "0   1  Do men enjoy sex more, or women? The Mahabhara...   \n",
       "1   2       Why you should eat the Demonetisation laddoo   \n",
       "2   3            Is the world headed for a new Cold War?   \n",
       "3   4  Demonetisation is all about Modi, either you'r...   \n",
       "4   5  Why electoral bonds won't clean up political f...   \n",
       "\n",
       "                                       News_headline  Category  \n",
       "0  [Book Extract] From Anushasana Parva, translat...      Arts  \n",
       "1  One laddoo equals to one lakh in your Jan Dhan...    humour  \n",
       "2  The battle lines have become very clear with R...  politics  \n",
       "3  How many times should this hypocritical drama ...  business  \n",
       "4  Union finance minister Arun Jaitley needs to p...  politics  "
      ]
     },
     "execution_count": 3,
     "metadata": {},
     "output_type": "execute_result"
    }
   ],
   "source": [
    "#printing to show the dataset\n",
    "dataset.head()"
   ]
  },
  {
   "cell_type": "code",
   "execution_count": 4,
   "id": "8cba5737",
   "metadata": {
    "execution": {
     "iopub.execute_input": "2024-10-05T20:14:10.168618Z",
     "iopub.status.busy": "2024-10-05T20:14:10.167897Z",
     "iopub.status.idle": "2024-10-05T20:14:10.173415Z",
     "shell.execute_reply": "2024-10-05T20:14:10.172571Z"
    },
    "id": "3n0aPq3B48Wo",
    "outputId": "4cf67401-33c6-48da-8a20-936d17a35e21",
    "papermill": {
     "duration": 0.012814,
     "end_time": "2024-10-05T20:14:10.175394",
     "exception": false,
     "start_time": "2024-10-05T20:14:10.162580",
     "status": "completed"
    },
    "tags": []
   },
   "outputs": [
    {
     "data": {
      "text/plain": [
       "(15576, 4)"
      ]
     },
     "execution_count": 4,
     "metadata": {},
     "output_type": "execute_result"
    }
   ],
   "source": [
    "#shape of dataset\n",
    "dataset.shape"
   ]
  },
  {
   "cell_type": "code",
   "execution_count": 5,
   "id": "a87f7458",
   "metadata": {
    "execution": {
     "iopub.execute_input": "2024-10-05T20:14:10.186025Z",
     "iopub.status.busy": "2024-10-05T20:14:10.185267Z",
     "iopub.status.idle": "2024-10-05T20:14:10.200351Z",
     "shell.execute_reply": "2024-10-05T20:14:10.199440Z"
    },
    "id": "hur6f6upbqmw",
    "outputId": "669a65aa-5bd0-4634-8713-f794a62385ec",
    "papermill": {
     "duration": 0.022357,
     "end_time": "2024-10-05T20:14:10.202304",
     "exception": false,
     "start_time": "2024-10-05T20:14:10.179947",
     "status": "completed"
    },
    "tags": []
   },
   "outputs": [
    {
     "data": {
      "text/html": [
       "<div>\n",
       "<style scoped>\n",
       "    .dataframe tbody tr th:only-of-type {\n",
       "        vertical-align: middle;\n",
       "    }\n",
       "\n",
       "    .dataframe tbody tr th {\n",
       "        vertical-align: top;\n",
       "    }\n",
       "\n",
       "    .dataframe thead th {\n",
       "        text-align: right;\n",
       "    }\n",
       "</style>\n",
       "<table border=\"1\" class=\"dataframe\">\n",
       "  <thead>\n",
       "    <tr style=\"text-align: right;\">\n",
       "      <th></th>\n",
       "      <th>ID</th>\n",
       "      <th>News_title</th>\n",
       "      <th>News_headline</th>\n",
       "      <th>Category</th>\n",
       "    </tr>\n",
       "  </thead>\n",
       "  <tbody>\n",
       "    <tr>\n",
       "      <th>0</th>\n",
       "      <td>1</td>\n",
       "      <td>Do men enjoy sex more, or women? The Mahabhara...</td>\n",
       "      <td>[Book Extract] From Anushasana Parva, translat...</td>\n",
       "      <td>0</td>\n",
       "    </tr>\n",
       "    <tr>\n",
       "      <th>1</th>\n",
       "      <td>2</td>\n",
       "      <td>Why you should eat the Demonetisation laddoo</td>\n",
       "      <td>One laddoo equals to one lakh in your Jan Dhan...</td>\n",
       "      <td>2</td>\n",
       "    </tr>\n",
       "    <tr>\n",
       "      <th>2</th>\n",
       "      <td>3</td>\n",
       "      <td>Is the world headed for a new Cold War?</td>\n",
       "      <td>The battle lines have become very clear with R...</td>\n",
       "      <td>3</td>\n",
       "    </tr>\n",
       "    <tr>\n",
       "      <th>3</th>\n",
       "      <td>4</td>\n",
       "      <td>Demonetisation is all about Modi, either you'r...</td>\n",
       "      <td>How many times should this hypocritical drama ...</td>\n",
       "      <td>1</td>\n",
       "    </tr>\n",
       "    <tr>\n",
       "      <th>4</th>\n",
       "      <td>5</td>\n",
       "      <td>Why electoral bonds won't clean up political f...</td>\n",
       "      <td>Union finance minister Arun Jaitley needs to p...</td>\n",
       "      <td>3</td>\n",
       "    </tr>\n",
       "    <tr>\n",
       "      <th>5</th>\n",
       "      <td>6</td>\n",
       "      <td>Booze, beef and gambling in Goa: BJP's Hindutv...</td>\n",
       "      <td>These double standards are not just shocking b...</td>\n",
       "      <td>3</td>\n",
       "    </tr>\n",
       "    <tr>\n",
       "      <th>6</th>\n",
       "      <td>7</td>\n",
       "      <td>Beef politics is taking a bite out of Meghalay...</td>\n",
       "      <td>Party leader in northeastern state quits over ...</td>\n",
       "      <td>3</td>\n",
       "    </tr>\n",
       "    <tr>\n",
       "      <th>7</th>\n",
       "      <td>8</td>\n",
       "      <td>What Shivraj Singh Chouhan did when Modi was t...</td>\n",
       "      <td>The Madhya Pradesh chief minister has killed i...</td>\n",
       "      <td>3</td>\n",
       "    </tr>\n",
       "    <tr>\n",
       "      <th>8</th>\n",
       "      <td>9</td>\n",
       "      <td>No marks for Chennai’s Bala Vidya Mandir</td>\n",
       "      <td>The school will sink into quicksand, unless it...</td>\n",
       "      <td>3</td>\n",
       "    </tr>\n",
       "    <tr>\n",
       "      <th>9</th>\n",
       "      <td>10</td>\n",
       "      <td>Refrain that India's armed forces can do no wr...</td>\n",
       "      <td>Pathankot, Uri, Nagrota and Baramullah attacks...</td>\n",
       "      <td>3</td>\n",
       "    </tr>\n",
       "  </tbody>\n",
       "</table>\n",
       "</div>"
      ],
      "text/plain": [
       "   ID                                         News_title  \\\n",
       "0   1  Do men enjoy sex more, or women? The Mahabhara...   \n",
       "1   2       Why you should eat the Demonetisation laddoo   \n",
       "2   3            Is the world headed for a new Cold War?   \n",
       "3   4  Demonetisation is all about Modi, either you'r...   \n",
       "4   5  Why electoral bonds won't clean up political f...   \n",
       "5   6  Booze, beef and gambling in Goa: BJP's Hindutv...   \n",
       "6   7  Beef politics is taking a bite out of Meghalay...   \n",
       "7   8  What Shivraj Singh Chouhan did when Modi was t...   \n",
       "8   9           No marks for Chennai’s Bala Vidya Mandir   \n",
       "9  10  Refrain that India's armed forces can do no wr...   \n",
       "\n",
       "                                       News_headline  Category  \n",
       "0  [Book Extract] From Anushasana Parva, translat...         0  \n",
       "1  One laddoo equals to one lakh in your Jan Dhan...         2  \n",
       "2  The battle lines have become very clear with R...         3  \n",
       "3  How many times should this hypocritical drama ...         1  \n",
       "4  Union finance minister Arun Jaitley needs to p...         3  \n",
       "5  These double standards are not just shocking b...         3  \n",
       "6  Party leader in northeastern state quits over ...         3  \n",
       "7  The Madhya Pradesh chief minister has killed i...         3  \n",
       "8  The school will sink into quicksand, unless it...         3  \n",
       "9  Pathankot, Uri, Nagrota and Baramullah attacks...         3  "
      ]
     },
     "execution_count": 5,
     "metadata": {},
     "output_type": "execute_result"
    }
   ],
   "source": [
    "# Mapping the categories to their corresponding IDs\n",
    "category_to_id = {\n",
    "    'Arts': 0,\n",
    "    'business': 1,\n",
    "    'humour': 2,\n",
    "    'politics': 3,\n",
    "    'sports': 4,\n",
    "    'tech': 5\n",
    "}\n",
    "dataset['Category'] = dataset['Category'].map(category_to_id)\n",
    "\n",
    "dataset.head(10)"
   ]
  },
  {
   "cell_type": "markdown",
   "id": "260ae24f",
   "metadata": {
    "id": "9wXYgbbLhvwf",
    "papermill": {
     "duration": 0.005643,
     "end_time": "2024-10-05T20:14:10.212883",
     "exception": false,
     "start_time": "2024-10-05T20:14:10.207240",
     "status": "completed"
    },
    "tags": []
   },
   "source": [
    "# Data Preprocessing\n",
    "\n",
    "> Applying several pre processing techniques such as removing punctuation, removing stopwords, lemmatizing, stemming, etc.\n",
    "\n"
   ]
  },
  {
   "cell_type": "code",
   "execution_count": 6,
   "id": "434ea37a",
   "metadata": {
    "execution": {
     "iopub.execute_input": "2024-10-05T20:14:10.223792Z",
     "iopub.status.busy": "2024-10-05T20:14:10.223478Z",
     "iopub.status.idle": "2024-10-05T20:14:10.253601Z",
     "shell.execute_reply": "2024-10-05T20:14:10.252697Z"
    },
    "id": "MMQChmAMh1fN",
    "outputId": "6b40c339-a948-45f1-ce80-7caac5450790",
    "papermill": {
     "duration": 0.037933,
     "end_time": "2024-10-05T20:14:10.255647",
     "exception": false,
     "start_time": "2024-10-05T20:14:10.217714",
     "status": "completed"
    },
    "tags": []
   },
   "outputs": [
    {
     "data": {
      "text/html": [
       "<div>\n",
       "<style scoped>\n",
       "    .dataframe tbody tr th:only-of-type {\n",
       "        vertical-align: middle;\n",
       "    }\n",
       "\n",
       "    .dataframe tbody tr th {\n",
       "        vertical-align: top;\n",
       "    }\n",
       "\n",
       "    .dataframe thead th {\n",
       "        text-align: right;\n",
       "    }\n",
       "</style>\n",
       "<table border=\"1\" class=\"dataframe\">\n",
       "  <thead>\n",
       "    <tr style=\"text-align: right;\">\n",
       "      <th></th>\n",
       "      <th>ID</th>\n",
       "      <th>Category</th>\n",
       "      <th>text</th>\n",
       "    </tr>\n",
       "  </thead>\n",
       "  <tbody>\n",
       "    <tr>\n",
       "      <th>0</th>\n",
       "      <td>1</td>\n",
       "      <td>0</td>\n",
       "      <td>Do men enjoy sex more, or women? The Mahabhara...</td>\n",
       "    </tr>\n",
       "    <tr>\n",
       "      <th>1</th>\n",
       "      <td>2</td>\n",
       "      <td>2</td>\n",
       "      <td>Why you should eat the Demonetisation laddoo O...</td>\n",
       "    </tr>\n",
       "    <tr>\n",
       "      <th>2</th>\n",
       "      <td>3</td>\n",
       "      <td>3</td>\n",
       "      <td>Is the world headed for a new Cold War? The ba...</td>\n",
       "    </tr>\n",
       "    <tr>\n",
       "      <th>3</th>\n",
       "      <td>4</td>\n",
       "      <td>1</td>\n",
       "      <td>Demonetisation is all about Modi, either you'r...</td>\n",
       "    </tr>\n",
       "    <tr>\n",
       "      <th>4</th>\n",
       "      <td>5</td>\n",
       "      <td>3</td>\n",
       "      <td>Why electoral bonds won't clean up political f...</td>\n",
       "    </tr>\n",
       "  </tbody>\n",
       "</table>\n",
       "</div>"
      ],
      "text/plain": [
       "   ID  Category                                               text\n",
       "0   1         0  Do men enjoy sex more, or women? The Mahabhara...\n",
       "1   2         2  Why you should eat the Demonetisation laddoo O...\n",
       "2   3         3  Is the world headed for a new Cold War? The ba...\n",
       "3   4         1  Demonetisation is all about Modi, either you'r...\n",
       "4   5         3  Why electoral bonds won't clean up political f..."
      ]
     },
     "execution_count": 6,
     "metadata": {},
     "output_type": "execute_result"
    }
   ],
   "source": [
    "# Combining News_title and News_headline to create less columns\n",
    "dataset['text'] = dataset['News_title'] + ' ' + dataset['News_headline']\n",
    "test_set['text'] = test_set['News_title'] + ' ' + test_set['News_headline']\n",
    "\n",
    "# removing the unnecessary columns\n",
    "dataset = dataset.drop(['News_title', 'News_headline'], axis = 1)\n",
    "test_set = test_set.drop(['News_title', 'News_headline'], axis=1)\n",
    "\n",
    "# Handling missing data\n",
    "dataset['text'] = dataset['text'].fillna(\"\")\n",
    "test_set['text'] = test_set['text'].fillna(\"\")\n",
    "\n",
    "dataset.head()"
   ]
  },
  {
   "cell_type": "code",
   "execution_count": 7,
   "id": "7098c14d",
   "metadata": {
    "execution": {
     "iopub.execute_input": "2024-10-05T20:14:10.267330Z",
     "iopub.status.busy": "2024-10-05T20:14:10.267020Z",
     "iopub.status.idle": "2024-10-05T20:14:21.748576Z",
     "shell.execute_reply": "2024-10-05T20:14:21.747565Z"
    },
    "id": "MkhdRQzSlSla",
    "outputId": "84065385-efe1-4308-bfad-fa0fad705334",
    "papermill": {
     "duration": 11.490049,
     "end_time": "2024-10-05T20:14:21.751010",
     "exception": false,
     "start_time": "2024-10-05T20:14:10.260961",
     "status": "completed"
    },
    "tags": []
   },
   "outputs": [
    {
     "name": "stdout",
     "output_type": "stream",
     "text": [
      "Requirement already satisfied: nltk in /opt/conda/lib/python3.10/site-packages (3.2.4)\r\n",
      "Requirement already satisfied: six in /opt/conda/lib/python3.10/site-packages (from nltk) (1.16.0)\r\n"
     ]
    }
   ],
   "source": [
    "!pip install nltk"
   ]
  },
  {
   "cell_type": "code",
   "execution_count": 8,
   "id": "ffb9c8fd",
   "metadata": {
    "execution": {
     "iopub.execute_input": "2024-10-05T20:14:21.763521Z",
     "iopub.status.busy": "2024-10-05T20:14:21.762809Z",
     "iopub.status.idle": "2024-10-05T20:15:22.573506Z",
     "shell.execute_reply": "2024-10-05T20:15:22.572449Z"
    },
    "id": "cxdIffCZnB-X",
    "outputId": "ceb7135a-0034-4465-f219-dfbe0f37f551",
    "papermill": {
     "duration": 60.819282,
     "end_time": "2024-10-05T20:15:22.575735",
     "exception": false,
     "start_time": "2024-10-05T20:14:21.756453",
     "status": "completed"
    },
    "tags": []
   },
   "outputs": [
    {
     "name": "stdout",
     "output_type": "stream",
     "text": [
      "[nltk_data] Error loading punkt: <urlopen error [Errno -3] Temporary\n",
      "[nltk_data]     failure in name resolution>\n",
      "[nltk_data] Error loading stopwords: <urlopen error [Errno -3]\n",
      "[nltk_data]     Temporary failure in name resolution>\n",
      "[nltk_data] Error loading wordnet: <urlopen error [Errno -3] Temporary\n",
      "[nltk_data]     failure in name resolution>\n"
     ]
    },
    {
     "data": {
      "text/plain": [
       "False"
      ]
     },
     "execution_count": 8,
     "metadata": {},
     "output_type": "execute_result"
    }
   ],
   "source": [
    "import nltk\n",
    "nltk.download('punkt')\n",
    "nltk.download('stopwords')\n",
    "nltk.download('wordnet')"
   ]
  },
  {
   "cell_type": "code",
   "execution_count": 9,
   "id": "d27a10c9",
   "metadata": {
    "execution": {
     "iopub.execute_input": "2024-10-05T20:15:22.588893Z",
     "iopub.status.busy": "2024-10-05T20:15:22.588082Z",
     "iopub.status.idle": "2024-10-05T20:15:23.010941Z",
     "shell.execute_reply": "2024-10-05T20:15:23.010002Z"
    },
    "id": "uev_xp7Hn1oc",
    "outputId": "f33ca8d6-1262-43c8-9f22-b2ba8591aeb7",
    "papermill": {
     "duration": 0.431506,
     "end_time": "2024-10-05T20:15:23.012969",
     "exception": false,
     "start_time": "2024-10-05T20:15:22.581463",
     "status": "completed"
    },
    "tags": []
   },
   "outputs": [
    {
     "data": {
      "text/html": [
       "<div>\n",
       "<style scoped>\n",
       "    .dataframe tbody tr th:only-of-type {\n",
       "        vertical-align: middle;\n",
       "    }\n",
       "\n",
       "    .dataframe tbody tr th {\n",
       "        vertical-align: top;\n",
       "    }\n",
       "\n",
       "    .dataframe thead th {\n",
       "        text-align: right;\n",
       "    }\n",
       "</style>\n",
       "<table border=\"1\" class=\"dataframe\">\n",
       "  <thead>\n",
       "    <tr style=\"text-align: right;\">\n",
       "      <th></th>\n",
       "      <th>ID</th>\n",
       "      <th>Category</th>\n",
       "      <th>text</th>\n",
       "    </tr>\n",
       "  </thead>\n",
       "  <tbody>\n",
       "    <tr>\n",
       "      <th>0</th>\n",
       "      <td>1</td>\n",
       "      <td>0</td>\n",
       "      <td>Do men enjoy sex more or women The Mahabharata...</td>\n",
       "    </tr>\n",
       "    <tr>\n",
       "      <th>1</th>\n",
       "      <td>2</td>\n",
       "      <td>2</td>\n",
       "      <td>Why you should eat the Demonetisation laddoo O...</td>\n",
       "    </tr>\n",
       "    <tr>\n",
       "      <th>2</th>\n",
       "      <td>3</td>\n",
       "      <td>3</td>\n",
       "      <td>Is the world headed for a new Cold War The bat...</td>\n",
       "    </tr>\n",
       "    <tr>\n",
       "      <th>3</th>\n",
       "      <td>4</td>\n",
       "      <td>1</td>\n",
       "      <td>Demonetisation is all about Modi either youre ...</td>\n",
       "    </tr>\n",
       "    <tr>\n",
       "      <th>4</th>\n",
       "      <td>5</td>\n",
       "      <td>3</td>\n",
       "      <td>Why electoral bonds wont clean up political fu...</td>\n",
       "    </tr>\n",
       "  </tbody>\n",
       "</table>\n",
       "</div>"
      ],
      "text/plain": [
       "   ID  Category                                               text\n",
       "0   1         0  Do men enjoy sex more or women The Mahabharata...\n",
       "1   2         2  Why you should eat the Demonetisation laddoo O...\n",
       "2   3         3  Is the world headed for a new Cold War The bat...\n",
       "3   4         1  Demonetisation is all about Modi either youre ...\n",
       "4   5         3  Why electoral bonds wont clean up political fu..."
      ]
     },
     "execution_count": 9,
     "metadata": {},
     "output_type": "execute_result"
    }
   ],
   "source": [
    "# 1.REMOVING PUNCTUATION\n",
    "import string\n",
    "string.punctuation\n",
    "\n",
    "# Function to remove punctuations\n",
    "def remove_punc(text):\n",
    "    nonP_text = \"\".join([char for char in text if char not in string.punctuation])\n",
    "    return nonP_text\n",
    "\n",
    "# Handling missing values and non-string entries, then applying remove_punc\n",
    "dataset[\"text\"] = dataset[\"text\"].apply(lambda x: remove_punc(x))\n",
    "test_set[\"text\"] = test_set[\"text\"].apply(lambda x: remove_punc(x))\n",
    "\n",
    "dataset.head()"
   ]
  },
  {
   "cell_type": "code",
   "execution_count": 10,
   "id": "5e401b33",
   "metadata": {
    "execution": {
     "iopub.execute_input": "2024-10-05T20:15:23.026000Z",
     "iopub.status.busy": "2024-10-05T20:15:23.025428Z",
     "iopub.status.idle": "2024-10-05T20:15:23.397049Z",
     "shell.execute_reply": "2024-10-05T20:15:23.396084Z"
    },
    "id": "eK4FWMx8quci",
    "outputId": "ca52b891-17c1-47f1-ddce-c31e493c891c",
    "papermill": {
     "duration": 0.3802,
     "end_time": "2024-10-05T20:15:23.399119",
     "exception": false,
     "start_time": "2024-10-05T20:15:23.018919",
     "status": "completed"
    },
    "tags": []
   },
   "outputs": [
    {
     "data": {
      "text/html": [
       "<div>\n",
       "<style scoped>\n",
       "    .dataframe tbody tr th:only-of-type {\n",
       "        vertical-align: middle;\n",
       "    }\n",
       "\n",
       "    .dataframe tbody tr th {\n",
       "        vertical-align: top;\n",
       "    }\n",
       "\n",
       "    .dataframe thead th {\n",
       "        text-align: right;\n",
       "    }\n",
       "</style>\n",
       "<table border=\"1\" class=\"dataframe\">\n",
       "  <thead>\n",
       "    <tr style=\"text-align: right;\">\n",
       "      <th></th>\n",
       "      <th>ID</th>\n",
       "      <th>Category</th>\n",
       "      <th>text</th>\n",
       "    </tr>\n",
       "  </thead>\n",
       "  <tbody>\n",
       "    <tr>\n",
       "      <th>0</th>\n",
       "      <td>1</td>\n",
       "      <td>0</td>\n",
       "      <td>[Do, men, enjoy, sex, more, or, women, The, Ma...</td>\n",
       "    </tr>\n",
       "    <tr>\n",
       "      <th>1</th>\n",
       "      <td>2</td>\n",
       "      <td>2</td>\n",
       "      <td>[Why, you, should, eat, the, Demonetisation, l...</td>\n",
       "    </tr>\n",
       "    <tr>\n",
       "      <th>2</th>\n",
       "      <td>3</td>\n",
       "      <td>3</td>\n",
       "      <td>[Is, the, world, headed, for, a, new, Cold, Wa...</td>\n",
       "    </tr>\n",
       "    <tr>\n",
       "      <th>3</th>\n",
       "      <td>4</td>\n",
       "      <td>1</td>\n",
       "      <td>[Demonetisation, is, all, about, Modi, either,...</td>\n",
       "    </tr>\n",
       "    <tr>\n",
       "      <th>4</th>\n",
       "      <td>5</td>\n",
       "      <td>3</td>\n",
       "      <td>[Why, electoral, bonds, wont, clean, up, polit...</td>\n",
       "    </tr>\n",
       "  </tbody>\n",
       "</table>\n",
       "</div>"
      ],
      "text/plain": [
       "   ID  Category                                               text\n",
       "0   1         0  [Do, men, enjoy, sex, more, or, women, The, Ma...\n",
       "1   2         2  [Why, you, should, eat, the, Demonetisation, l...\n",
       "2   3         3  [Is, the, world, headed, for, a, new, Cold, Wa...\n",
       "3   4         1  [Demonetisation, is, all, about, Modi, either,...\n",
       "4   5         3  [Why, electoral, bonds, wont, clean, up, polit..."
      ]
     },
     "execution_count": 10,
     "metadata": {},
     "output_type": "execute_result"
    }
   ],
   "source": [
    "# 2. TOKENIZATION\n",
    "import re\n",
    "\n",
    "#function to apply tokenization\n",
    "def tokenize(text):\n",
    "    tokens = re.split(\"\\W+\", text)  # W+ means all capital, small alphabets and integers 0-9\n",
    "    return tokens\n",
    "\n",
    "dataset[\"text\"] = dataset[\"text\"].apply(lambda x: tokenize(x))\n",
    "test_set[\"text\"] = test_set[\"text\"].apply(lambda x: tokenize(x))\n",
    "\n",
    "dataset.head()"
   ]
  },
  {
   "cell_type": "code",
   "execution_count": 11,
   "id": "7d3428aa",
   "metadata": {
    "execution": {
     "iopub.execute_input": "2024-10-05T20:15:23.412888Z",
     "iopub.status.busy": "2024-10-05T20:15:23.412109Z",
     "iopub.status.idle": "2024-10-05T20:15:24.658536Z",
     "shell.execute_reply": "2024-10-05T20:15:24.657428Z"
    },
    "id": "39EL2ZngsMfC",
    "outputId": "8bc60420-1776-4434-c4f7-91f6df2c7e09",
    "papermill": {
     "duration": 1.255434,
     "end_time": "2024-10-05T20:15:24.660781",
     "exception": false,
     "start_time": "2024-10-05T20:15:23.405347",
     "status": "completed"
    },
    "tags": []
   },
   "outputs": [
    {
     "data": {
      "text/html": [
       "<div>\n",
       "<style scoped>\n",
       "    .dataframe tbody tr th:only-of-type {\n",
       "        vertical-align: middle;\n",
       "    }\n",
       "\n",
       "    .dataframe tbody tr th {\n",
       "        vertical-align: top;\n",
       "    }\n",
       "\n",
       "    .dataframe thead th {\n",
       "        text-align: right;\n",
       "    }\n",
       "</style>\n",
       "<table border=\"1\" class=\"dataframe\">\n",
       "  <thead>\n",
       "    <tr style=\"text-align: right;\">\n",
       "      <th></th>\n",
       "      <th>ID</th>\n",
       "      <th>Category</th>\n",
       "      <th>text</th>\n",
       "    </tr>\n",
       "  </thead>\n",
       "  <tbody>\n",
       "    <tr>\n",
       "      <th>0</th>\n",
       "      <td>1</td>\n",
       "      <td>0</td>\n",
       "      <td>[Do, men, enjoy, sex, women, The, Mahabharata,...</td>\n",
       "    </tr>\n",
       "    <tr>\n",
       "      <th>1</th>\n",
       "      <td>2</td>\n",
       "      <td>2</td>\n",
       "      <td>[Why, eat, Demonetisation, laddoo, One, laddoo...</td>\n",
       "    </tr>\n",
       "    <tr>\n",
       "      <th>2</th>\n",
       "      <td>3</td>\n",
       "      <td>3</td>\n",
       "      <td>[Is, world, headed, new, Cold, War, The, battl...</td>\n",
       "    </tr>\n",
       "    <tr>\n",
       "      <th>3</th>\n",
       "      <td>4</td>\n",
       "      <td>1</td>\n",
       "      <td>[Demonetisation, Modi, either, youre, India, H...</td>\n",
       "    </tr>\n",
       "    <tr>\n",
       "      <th>4</th>\n",
       "      <td>5</td>\n",
       "      <td>3</td>\n",
       "      <td>[Why, electoral, bonds, wont, clean, political...</td>\n",
       "    </tr>\n",
       "  </tbody>\n",
       "</table>\n",
       "</div>"
      ],
      "text/plain": [
       "   ID  Category                                               text\n",
       "0   1         0  [Do, men, enjoy, sex, women, The, Mahabharata,...\n",
       "1   2         2  [Why, eat, Demonetisation, laddoo, One, laddoo...\n",
       "2   3         3  [Is, world, headed, new, Cold, War, The, battl...\n",
       "3   4         1  [Demonetisation, Modi, either, youre, India, H...\n",
       "4   5         3  [Why, electoral, bonds, wont, clean, political..."
      ]
     },
     "execution_count": 11,
     "metadata": {},
     "output_type": "execute_result"
    }
   ],
   "source": [
    "# 3. REMOVING STOPWORDS FROM TEXT\n",
    "import nltk\n",
    "stopwords = nltk.corpus.stopwords.words(\"english\")\n",
    "\n",
    "def remove_stopwords(token):\n",
    "    text = [word for word in token if word not in stopwords]# to remove all stopwords\n",
    "    return text\n",
    "\n",
    "dataset[\"text\"] = dataset[\"text\"].apply(lambda x: remove_stopwords(x))\n",
    "test_set[\"text\"] = test_set[\"text\"].apply(lambda x: remove_stopwords(x))\n",
    "\n",
    "dataset.head()"
   ]
  },
  {
   "cell_type": "code",
   "execution_count": 12,
   "id": "8fd62b3f",
   "metadata": {
    "execution": {
     "iopub.execute_input": "2024-10-05T20:15:24.675474Z",
     "iopub.status.busy": "2024-10-05T20:15:24.674593Z",
     "iopub.status.idle": "2024-10-05T20:15:33.555823Z",
     "shell.execute_reply": "2024-10-05T20:15:33.554831Z"
    },
    "id": "jQeEUolPv2jt",
    "outputId": "9fa0a2bc-c9e9-4e10-e77d-3a46933e9189",
    "papermill": {
     "duration": 8.890855,
     "end_time": "2024-10-05T20:15:33.557970",
     "exception": false,
     "start_time": "2024-10-05T20:15:24.667115",
     "status": "completed"
    },
    "tags": []
   },
   "outputs": [
    {
     "data": {
      "text/html": [
       "<div>\n",
       "<style scoped>\n",
       "    .dataframe tbody tr th:only-of-type {\n",
       "        vertical-align: middle;\n",
       "    }\n",
       "\n",
       "    .dataframe tbody tr th {\n",
       "        vertical-align: top;\n",
       "    }\n",
       "\n",
       "    .dataframe thead th {\n",
       "        text-align: right;\n",
       "    }\n",
       "</style>\n",
       "<table border=\"1\" class=\"dataframe\">\n",
       "  <thead>\n",
       "    <tr style=\"text-align: right;\">\n",
       "      <th></th>\n",
       "      <th>ID</th>\n",
       "      <th>Category</th>\n",
       "      <th>text</th>\n",
       "    </tr>\n",
       "  </thead>\n",
       "  <tbody>\n",
       "    <tr>\n",
       "      <th>0</th>\n",
       "      <td>1</td>\n",
       "      <td>0</td>\n",
       "      <td>Do men enjoy sex women the mahabharata answer ...</td>\n",
       "    </tr>\n",
       "    <tr>\n",
       "      <th>1</th>\n",
       "      <td>2</td>\n",
       "      <td>2</td>\n",
       "      <td>whi eat demonetis laddoo one laddoo equal one ...</td>\n",
       "    </tr>\n",
       "    <tr>\n",
       "      <th>2</th>\n",
       "      <td>3</td>\n",
       "      <td>3</td>\n",
       "      <td>Is world head new cold war the battl line beco...</td>\n",
       "    </tr>\n",
       "    <tr>\n",
       "      <th>3</th>\n",
       "      <td>4</td>\n",
       "      <td>1</td>\n",
       "      <td>demonetis modi either your india how mani time...</td>\n",
       "    </tr>\n",
       "    <tr>\n",
       "      <th>4</th>\n",
       "      <td>5</td>\n",
       "      <td>3</td>\n",
       "      <td>whi elector bond wont clean polit fund union f...</td>\n",
       "    </tr>\n",
       "  </tbody>\n",
       "</table>\n",
       "</div>"
      ],
      "text/plain": [
       "   ID  Category                                               text\n",
       "0   1         0  Do men enjoy sex women the mahabharata answer ...\n",
       "1   2         2  whi eat demonetis laddoo one laddoo equal one ...\n",
       "2   3         3  Is world head new cold war the battl line beco...\n",
       "3   4         1  demonetis modi either your india how mani time...\n",
       "4   5         3  whi elector bond wont clean polit fund union f..."
      ]
     },
     "execution_count": 12,
     "metadata": {},
     "output_type": "execute_result"
    }
   ],
   "source": [
    "# 4. STEMMING\n",
    "ps = nltk.PorterStemmer()\n",
    "\n",
    "def stemming(t_text):\n",
    "    text = [ps.stem(word) for word in t_text]\n",
    "    return \" \".join(text) #This joins the list of words back into a string\n",
    "\n",
    "dataset[\"text\"] = dataset[\"text\"].apply(lambda x: stemming(x))\n",
    "test_set[\"text\"] = test_set[\"text\"].apply(lambda x: stemming(x))\n",
    "\n",
    "dataset.head()"
   ]
  },
  {
   "cell_type": "markdown",
   "id": "1bf0c92f",
   "metadata": {
    "id": "aRJwfvvBw-lm",
    "papermill": {
     "duration": 0.006012,
     "end_time": "2024-10-05T20:15:33.570590",
     "exception": false,
     "start_time": "2024-10-05T20:15:33.564578",
     "status": "completed"
    },
    "tags": []
   },
   "source": [
    "# MODEL BUILDING AND EVALUATION"
   ]
  },
  {
   "cell_type": "code",
   "execution_count": 13,
   "id": "5545bf1c",
   "metadata": {
    "execution": {
     "iopub.execute_input": "2024-10-05T20:15:33.584174Z",
     "iopub.status.busy": "2024-10-05T20:15:33.583806Z",
     "iopub.status.idle": "2024-10-05T20:15:33.598349Z",
     "shell.execute_reply": "2024-10-05T20:15:33.597571Z"
    },
    "id": "x2n3NkLVxDeo",
    "papermill": {
     "duration": 0.023792,
     "end_time": "2024-10-05T20:15:33.600388",
     "exception": false,
     "start_time": "2024-10-05T20:15:33.576596",
     "status": "completed"
    },
    "tags": []
   },
   "outputs": [],
   "source": [
    "# declaring dependent and independent value\n",
    "X = dataset[\"text\"]\n",
    "Y = dataset[\"Category\"]\n",
    "\n",
    "# Split into train/test\n",
    "from sklearn.model_selection import train_test_split\n",
    "X_train, X_test, Y_train, Y_test = train_test_split(\n",
    "    X, Y, test_size=0.2, stratify=Y, random_state=42)"
   ]
  },
  {
   "cell_type": "code",
   "execution_count": 14,
   "id": "21c2fe48",
   "metadata": {
    "execution": {
     "iopub.execute_input": "2024-10-05T20:15:33.613964Z",
     "iopub.status.busy": "2024-10-05T20:15:33.613628Z",
     "iopub.status.idle": "2024-10-05T20:15:33.938466Z",
     "shell.execute_reply": "2024-10-05T20:15:33.937634Z"
    },
    "id": "6twjwC7xyt15",
    "papermill": {
     "duration": 0.33426,
     "end_time": "2024-10-05T20:15:33.940812",
     "exception": false,
     "start_time": "2024-10-05T20:15:33.606552",
     "status": "completed"
    },
    "tags": []
   },
   "outputs": [],
   "source": [
    "# Vectorize the data using TF-IDF Vectorizer\n",
    "from sklearn.feature_extraction.text import TfidfVectorizer\n",
    "tfidf = TfidfVectorizer()  \n",
    "X_train = tfidf.fit_transform(X_train)\n",
    "X_test = tfidf.transform(X_test)"
   ]
  },
  {
   "cell_type": "code",
   "execution_count": 15,
   "id": "019d6039",
   "metadata": {
    "execution": {
     "iopub.execute_input": "2024-10-05T20:15:33.955204Z",
     "iopub.status.busy": "2024-10-05T20:15:33.954532Z",
     "iopub.status.idle": "2024-10-05T20:19:58.447838Z",
     "shell.execute_reply": "2024-10-05T20:19:58.446855Z"
    },
    "id": "9GkOvawhFOOJ",
    "outputId": "6d3f1abe-2348-4a39-f6b1-c33cd16aa8d5",
    "papermill": {
     "duration": 264.502763,
     "end_time": "2024-10-05T20:19:58.450174",
     "exception": false,
     "start_time": "2024-10-05T20:15:33.947411",
     "status": "completed"
    },
    "tags": []
   },
   "outputs": [
    {
     "name": "stdout",
     "output_type": "stream",
     "text": [
      "Fitting 3 folds for each of 10 candidates, totalling 30 fits\n",
      "F1-Score: 0.8535\n"
     ]
    }
   ],
   "source": [
    "from sklearn.metrics import f1_score\n",
    "from sklearn.model_selection import RandomizedSearchCV\n",
    "from sklearn.svm import SVC\n",
    "import numpy as np\n",
    "\n",
    "# Define parameter grid for Randomized Search\n",
    "param_dist = {\n",
    "    'C': np.logspace(-2, 2, 5),  # Explore from 0.01 to 100\n",
    "    'kernel': ['linear', 'rbf'],\n",
    "    'gamma': ['scale', 'auto']\n",
    "}\n",
    "\n",
    "# Performing Randomized Search with cross-validation\n",
    "random_search = RandomizedSearchCV(\n",
    "    SVC(random_state=42), \n",
    "    param_distributions=param_dist,\n",
    "    n_iter=10,  # Trying 10 random combinations\n",
    "    scoring='f1_weighted',\n",
    "    cv=3,  # 3-fold cross-validation\n",
    "    random_state=42,\n",
    "    verbose=1,\n",
    "    n_jobs=-1  # Use all available cores for parallelism\n",
    ")\n",
    "\n",
    "# Training the data\n",
    "random_search.fit(X_train, Y_train)\n",
    "\n",
    "# Get the best parameters\n",
    "best_params = random_search.best_params_\n",
    "\n",
    "# Train the final model with the best parameters on the full dataset\n",
    "svm_classifier = SVC(**best_params, random_state=42)\n",
    "svm_classifier.fit(X_train, Y_train)\n",
    "\n",
    "# Make predictions on the validation set\n",
    "svm_predictions = svm_classifier.predict(X_test)\n",
    "\n",
    "# Evaluate the model\n",
    "f1_svm = f1_score(Y_test, svm_predictions, average='weighted')\n",
    "print(f\"F1-Score: {f1_svm:.4f}\")\n",
    "\n",
    "# Prepare the test set for predictions\n",
    "X_pred = tfidf.transform(test_set['text'])  # Vectorize the test set text\n",
    "\n",
    "# Making predictions on the test set (used for submission)\n",
    "test_predictions = svm_classifier.predict(X_pred)\n",
    "\n",
    "# Create submission file with correct IDs and predicted Categories\n",
    "submission = pd.DataFrame({\n",
    "    'ID': test_set['ID'],  # Use 'ID' from test_set\n",
    "    'Category': test_predictions  # Predicted categories\n",
    "})\n",
    "\n",
    "# Save the submission file\n",
    "submission.to_csv('submission.csv', index=False)"
   ]
  }
 ],
 "metadata": {
  "colab": {
   "provenance": []
  },
  "kaggle": {
   "accelerator": "none",
   "dataSources": [
    {
     "databundleVersionId": 9721658,
     "sourceId": 85892,
     "sourceType": "competition"
    }
   ],
   "dockerImageVersionId": 30786,
   "isGpuEnabled": false,
   "isInternetEnabled": false,
   "language": "python",
   "sourceType": "notebook"
  },
  "kernelspec": {
   "display_name": "Python 3",
   "language": "python",
   "name": "python3"
  },
  "language_info": {
   "codemirror_mode": {
    "name": "ipython",
    "version": 3
   },
   "file_extension": ".py",
   "mimetype": "text/x-python",
   "name": "python",
   "nbconvert_exporter": "python",
   "pygments_lexer": "ipython3",
   "version": "3.10.14"
  },
  "papermill": {
   "default_parameters": {},
   "duration": 355.725745,
   "end_time": "2024-10-05T20:20:01.075692",
   "environment_variables": {},
   "exception": null,
   "input_path": "__notebook__.ipynb",
   "output_path": "__notebook__.ipynb",
   "parameters": {},
   "start_time": "2024-10-05T20:14:05.349947",
   "version": "2.6.0"
  }
 },
 "nbformat": 4,
 "nbformat_minor": 5
}
